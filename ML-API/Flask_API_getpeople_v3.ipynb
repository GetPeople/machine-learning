{
 "cells": [
  {
   "cell_type": "code",
   "execution_count": 3,
   "metadata": {},
   "outputs": [],
   "source": [
    "import os\n",
    "os.environ['TF_CPP_MIN_LOG_LEVEL'] = '2' # INI AKU GATAU BUAT APA\n",
    "\n",
    "import numpy as np\n",
    "import os\n",
    "import tensorflow.keras.backend as K\n",
    "import cv2\n",
    "\n",
    "from PIL import Image\n",
    "\n",
    "#Tensorflow\n",
    "from tensorflow.keras import Sequential\n",
    "from tensorflow.keras.layers import Input, MaxPooling2D, Conv2D, Dense, Dropout, Flatten\n",
    "from tensorflow.keras import layers\n",
    "from tensorflow.keras import Model\n",
    "from tensorflow.keras.optimizers import Adam\n",
    "from tensorflow.keras.losses import BinaryCrossentropy\n",
    "from tensorflow.keras.callbacks import EarlyStopping\n",
    "from tensorflow.keras.models import load_model\n",
    "\n",
    "#Flask\n",
    "from flask import Flask, request, jsonify, render_template"
   ]
  },
  {
   "cell_type": "code",
   "execution_count": 4,
   "metadata": {},
   "outputs": [],
   "source": [
    "# Distance Layer\n",
    "class DistanceLayer(layers.Layer):\n",
    "    \"\"\"\n",
    "    This layer is responsible for computing the distance\n",
    "    between the embeddings\n",
    "    \"\"\"\n",
    "\n",
    "    def __init__(self, **kwargs):\n",
    "        super().__init__(**kwargs)\n",
    "\n",
    "    def call(self, anchor, compare):\n",
    "        sum_squared = K.sum(K.square(anchor - compare), axis=1, keepdims=True)\n",
    "        return K.sqrt(K.maximum(sum_squared, K.epsilon()))"
   ]
  },
  {
   "cell_type": "code",
   "execution_count": 5,
   "metadata": {},
   "outputs": [],
   "source": [
    "# Import saved model\n",
    "model = load_model('my_h5_model.h5', custom_objects={'DistanceLayer' : DistanceLayer})"
   ]
  },
  {
   "cell_type": "code",
   "execution_count": 6,
   "metadata": {},
   "outputs": [],
   "source": [
    "# Convert image to array\n",
    "def import_images(paths):\n",
    "    images = []\n",
    "    for path in paths:\n",
    "      image = cv2.imread(path, cv2.IMREAD_UNCHANGED)\n",
    "      # rgb_weights = [0.2989, 0.5870, 0.1140]\n",
    "      # image = np.dot(image, rgb_weights)\n",
    "      image = cv2.cvtColor(image, cv2.COLOR_BGRA2GRAY)\n",
    "      image = Image.fromarray(image)\n",
    "      image = image.resize((64,64))\n",
    "      image = np.asarray(image) / 255\n",
    "      images.append(image)\n",
    "    return images\n",
    "\n",
    "# Convert image to array\n",
    "def transform_image(file):\n",
    "    image = cv2.imread(file, cv2.IMREAD_UNCHANGED)\n",
    "    # rgb_weights = [0.2989, 0.5870, 0.1140]\n",
    "    # image = np.dot(image, rgb_weights)\n",
    "    image = cv2.cvtColor(image, cv2.COLOR_BGRA2GRAY)\n",
    "    image = Image.fromarray(image)\n",
    "    image = image.resize((64,64))\n",
    "    image = np.asarray(image) / 255\n",
    "    return image\n",
    "\n",
    "# Pairing Image\n",
    "def pairing_image(test, database):\n",
    "    image_pair = []\n",
    "    for i in range(10):\n",
    "      image_pair.append((test[0], database[i]))\n",
    "    return image_pair\n",
    "\n",
    "# Predict result\n",
    "def predict(pair):\n",
    "    scores = []\n",
    "    score = model.predict([pair[:, 0, :], pair[:, 1, :]])\n",
    "    scores.append(score)\n",
    "    return scores"
   ]
  },
  {
   "cell_type": "code",
   "execution_count": 7,
   "metadata": {},
   "outputs": [
    {
     "name": "stdout",
     "output_type": "stream",
     "text": [
      " * Serving Flask app '__main__' (lazy loading)\n",
      " * Environment: production\n",
      "\u001b[31m   WARNING: This is a development server. Do not use it in a production deployment.\u001b[0m\n",
      "\u001b[2m   Use a production WSGI server instead.\u001b[0m\n",
      " * Debug mode: on\n"
     ]
    },
    {
     "name": "stderr",
     "output_type": "stream",
     "text": [
      " * Running on http://127.0.0.1:5000/ (Press CTRL+C to quit)\n"
     ]
    }
   ],
   "source": [
    "# Initialize Flask server with error handling\n",
    "app = Flask(__name__)\n",
    "\n",
    "@app.route('/', methods = [\"GET\", \"POST\"])\n",
    "def index():\n",
    "    if request.method == \"GET\":\n",
    "        return render_template('upload.html')\n",
    "    elif request.method == \"POST\":\n",
    "        image = request.files.get('file')\n",
    "        try:\n",
    "            image_path = \"F:/coba_api/images/\" + image.filename\n",
    "            image.save(image_path)\n",
    "\n",
    "            # Transform test image from request\n",
    "            test_image = import_images([image_path])\n",
    "\n",
    "            base = 'F:/coba_api/database_wajah/database/' # INI DIUBAH SESUAI DIRECTORY LOCAL (DATABASE ONLY)\n",
    "            dirs = os.listdir(base)\n",
    "            paths = []\n",
    "\n",
    "            for dir in dirs:\n",
    "                path = os.path.join(base, dir)\n",
    "                paths.append(path)\n",
    "\n",
    "            # Import and Transform Images (Database Only)\n",
    "            images = import_images(paths)\n",
    "\n",
    "            # Make a pair\n",
    "            paired_images = np.array(pairing_image(test_image, images))\n",
    "\n",
    "            # Prediction\n",
    "            pred = predict(paired_images)\n",
    "            result = [pred[0][i][0] for i in range(10)]\n",
    "            dict_from_list = dict(zip(result, paths))\n",
    "                        \n",
    "            sort_dictionary= dict(sorted(dict_from_list.items(), key=lambda item: item[0], reverse = True)) \n",
    "            sorted_path = [values for key, values in sort_dictionary.items()]\n",
    "\n",
    "            # Convert to JSON\n",
    "            result = json.dumps(sorted_path[:5])\n",
    "            return result\n",
    "        except Exception as e:\n",
    "            return jsonify({\"error\": str(e)})\n",
    "\n",
    "if __name__ == \"__main__\":\n",
    "    app.run(debug=True, use_reloader = False)"
   ]
  },
  {
   "cell_type": "code",
   "execution_count": null,
   "metadata": {},
   "outputs": [],
   "source": []
  }
 ],
 "metadata": {
  "interpreter": {
   "hash": "631926b96873d2007fbe5ba14401cac9ce99e5e76ded0bffc18be58f3fefa61b"
  },
  "kernelspec": {
   "display_name": "Python 3.9.7 ('base')",
   "language": "python",
   "name": "python3"
  },
  "language_info": {
   "codemirror_mode": {
    "name": "ipython",
    "version": 3
   },
   "file_extension": ".py",
   "mimetype": "text/x-python",
   "name": "python",
   "nbconvert_exporter": "python",
   "pygments_lexer": "ipython3",
   "version": "3.9.7"
  },
  "orig_nbformat": 4
 },
 "nbformat": 4,
 "nbformat_minor": 2
}
